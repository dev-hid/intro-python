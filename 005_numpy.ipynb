{
  "nbformat": 4,
  "nbformat_minor": 0,
  "metadata": {
    "colab": {
      "name": "005_numpy",
      "provenance": []
    },
    "kernelspec": {
      "name": "python3",
      "display_name": "Python 3"
    }
  },
  "cells": [
    {
      "cell_type": "markdown",
      "metadata": {
        "id": "K62nVPYYwPRt"
      },
      "source": [
        "*Research Center Digital Business Ecosystem - Telkom University*\n",
        "\n",
        "\n",
        "---\n",
        "\n"
      ]
    },
    {
      "cell_type": "markdown",
      "metadata": {
        "id": "0lv5orlUufRY"
      },
      "source": [
        "# **Numpy**\n",
        "Numpy is a general-purpose array-processing package. It provides a high-performance multidimensional array object, and tools for working with these arrays. It is the fundamental package for scientific computing with Python."
      ]
    },
    {
      "cell_type": "code",
      "metadata": {
        "id": "U61Eo_hv6K6c"
      },
      "source": [
        "# Import Numpy\n",
        "import numpy as np"
      ],
      "execution_count": 1,
      "outputs": []
    },
    {
      "cell_type": "markdown",
      "metadata": {
        "id": "4RbjRwPT2Ncu"
      },
      "source": [
        "## **Arrays in Numpy**\n",
        "Array in Numpy is a table of elements (usually numbers), all of the same type, indexed by a tuple of positive integers. In Numpy, number of dimensions of the array is called rank of the array.A tuple of integers giving the size of the array along each dimension is known as shape of the array. An array class in Numpy is called as ndarray. "
      ]
    },
    {
      "cell_type": "markdown",
      "metadata": {
        "id": "39dDMkMG6TEp"
      },
      "source": [
        "### **Creating a Numpy Array**"
      ]
    },
    {
      "cell_type": "code",
      "metadata": {
        "id": "94wGZtao6aEN",
        "outputId": "3f4582c9-d4dd-4d92-99c7-149a1d296f90",
        "colab": {
          "base_uri": "https://localhost:8080/",
          "height": 51
        }
      },
      "source": [
        "# Creating a rank 1 Array\n",
        "arr = np.array([1, 2, 3])\n",
        "print(\"Array with Rank 1: \\n\",arr)"
      ],
      "execution_count": 2,
      "outputs": [
        {
          "output_type": "stream",
          "text": [
            "Array with Rank 1: \n",
            " [1 2 3]\n"
          ],
          "name": "stdout"
        }
      ]
    },
    {
      "cell_type": "code",
      "metadata": {
        "id": "uHsfkGTk6bFg",
        "outputId": "e8380c25-3b6d-4d8f-f37b-cde41d1dc388",
        "colab": {
          "base_uri": "https://localhost:8080/",
          "height": 68
        }
      },
      "source": [
        "# Creating a rank 2 Array\n",
        "arr = np.array([[1, 2, 3],\n",
        "                [4, 5, 6]])\n",
        "print(\"Array with Rank 2: \\n\", arr)"
      ],
      "execution_count": 3,
      "outputs": [
        {
          "output_type": "stream",
          "text": [
            "Array with Rank 2: \n",
            " [[1 2 3]\n",
            " [4 5 6]]\n"
          ],
          "name": "stdout"
        }
      ]
    },
    {
      "cell_type": "code",
      "metadata": {
        "id": "DOy5HRaw6dio",
        "outputId": "95664f5e-80ac-42a9-8ffe-ff24bfa9b3a4",
        "colab": {
          "base_uri": "https://localhost:8080/",
          "height": 68
        }
      },
      "source": [
        "# Creating an array from tuple\n",
        "arr = np.array((1, 3, 2))\n",
        "print(\"\\nArray created using \"\n",
        "      \"passed tuple:\\n\", arr)"
      ],
      "execution_count": 4,
      "outputs": [
        {
          "output_type": "stream",
          "text": [
            "\n",
            "Array created using passed tuple:\n",
            " [1 3 2]\n"
          ],
          "name": "stdout"
        }
      ]
    },
    {
      "cell_type": "markdown",
      "metadata": {
        "id": "DGeYunaH6vpw"
      },
      "source": [
        "### **Accessing the array Index**"
      ]
    },
    {
      "cell_type": "code",
      "metadata": {
        "id": "O-TBadre67SX",
        "outputId": "f4631946-adfb-437c-d64f-aea91df207ac",
        "colab": {
          "base_uri": "https://localhost:8080/",
          "height": 102
        }
      },
      "source": [
        "# Initial Array\n",
        "arr = np.array([[-1, 2, 0, 4],\n",
        "                [4, -0.5, 6, 0],\n",
        "                [2.6, 0, 7, 8],\n",
        "                [3, -7, 4, 2.0]])\n",
        "print(\"Initial Array: \")\n",
        "print(arr)"
      ],
      "execution_count": 5,
      "outputs": [
        {
          "output_type": "stream",
          "text": [
            "Initial Array: \n",
            "[[-1.   2.   0.   4. ]\n",
            " [ 4.  -0.5  6.   0. ]\n",
            " [ 2.6  0.   7.   8. ]\n",
            " [ 3.  -7.   4.   2. ]]\n"
          ],
          "name": "stdout"
        }
      ]
    },
    {
      "cell_type": "code",
      "metadata": {
        "id": "zhRYO4oj7zys",
        "outputId": "1a55fc6f-d0dd-48c2-e249-5551c6dc8648",
        "colab": {
          "base_uri": "https://localhost:8080/",
          "height": 68
        }
      },
      "source": [
        "# Printing a range of Array\n",
        "# with the use of slicing method\n",
        "sliced_arr = arr[:2, ::2]\n",
        "print (\"Array with first 2 rows and\"\n",
        "    \" alternate columns(0 and 2):\\n\", sliced_arr)"
      ],
      "execution_count": 6,
      "outputs": [
        {
          "output_type": "stream",
          "text": [
            "Array with first 2 rows and alternate columns(0 and 2):\n",
            " [[-1.  0.]\n",
            " [ 4.  6.]]\n"
          ],
          "name": "stdout"
        }
      ]
    },
    {
      "cell_type": "code",
      "metadata": {
        "id": "ga9jk_QB717c",
        "outputId": "45ee252f-3e1f-421e-a20c-a7604909006a",
        "colab": {
          "base_uri": "https://localhost:8080/",
          "height": 68
        }
      },
      "source": [
        "# Printing elements at\n",
        "# specific Indices\n",
        "Index_arr = arr[[1, 1, 0, 3], \n",
        "                [3, 2, 1, 0]]\n",
        "print (\"\\nElements at indices (1, 3), \"\n",
        "    \"(1, 2), (0, 1), (3, 0):\\n\", Index_arr)"
      ],
      "execution_count": 7,
      "outputs": [
        {
          "output_type": "stream",
          "text": [
            "\n",
            "Elements at indices (1, 3), (1, 2), (0, 1), (3, 0):\n",
            " [0. 6. 2. 3.]\n"
          ],
          "name": "stdout"
        }
      ]
    },
    {
      "cell_type": "markdown",
      "metadata": {
        "id": "7IorDNGf6wY2"
      },
      "source": [
        "### **Basic Array Operations**"
      ]
    },
    {
      "cell_type": "code",
      "metadata": {
        "id": "uNKOD7F26oWE"
      },
      "source": [
        "# Defining Array 1\n",
        "a = np.array([[1, 2],\n",
        "              [3, 4]])\n",
        " \n",
        "# Defining Array 2\n",
        "b = np.array([[4, 3],\n",
        "              [2, 1]])"
      ],
      "execution_count": 8,
      "outputs": []
    },
    {
      "cell_type": "code",
      "metadata": {
        "id": "BpPXmRjT77w1",
        "outputId": "5d80cd6d-ad33-4d01-8e13-48d79e886846",
        "colab": {
          "base_uri": "https://localhost:8080/",
          "height": 51
        }
      },
      "source": [
        "# Adding 1 to every element\n",
        "print (\"Adding 1 to every element:\", a + 1)"
      ],
      "execution_count": 9,
      "outputs": [
        {
          "output_type": "stream",
          "text": [
            "Adding 1 to every element: [[2 3]\n",
            " [4 5]]\n"
          ],
          "name": "stdout"
        }
      ]
    },
    {
      "cell_type": "code",
      "metadata": {
        "id": "b63F7tE5794o",
        "outputId": "069bebcb-a9c3-4086-8a61-a07e6fb02d04",
        "colab": {
          "base_uri": "https://localhost:8080/",
          "height": 68
        }
      },
      "source": [
        "# Subtracting 2 from each element\n",
        "print (\"\\nSubtracting 2 from each element:\", b - 2)"
      ],
      "execution_count": 10,
      "outputs": [
        {
          "output_type": "stream",
          "text": [
            "\n",
            "Subtracting 2 from each element: [[ 2  1]\n",
            " [ 0 -1]]\n"
          ],
          "name": "stdout"
        }
      ]
    },
    {
      "cell_type": "code",
      "metadata": {
        "id": "h-qQWfjX7_o6",
        "outputId": "6e465ef9-dbbf-4d6b-a20c-49e16fa83847",
        "colab": {
          "base_uri": "https://localhost:8080/",
          "height": 51
        }
      },
      "source": [
        "# sum of array elements\n",
        "# Performing Unary operations\n",
        "print (\"\\nSum of all array \"\n",
        "       \"elements: \", a.sum())"
      ],
      "execution_count": 11,
      "outputs": [
        {
          "output_type": "stream",
          "text": [
            "\n",
            "Sum of all array elements:  10\n"
          ],
          "name": "stdout"
        }
      ]
    },
    {
      "cell_type": "code",
      "metadata": {
        "id": "0rEhy1oQ8BSM",
        "outputId": "78a70282-3467-4801-f7ea-6c99cb4a386d",
        "colab": {
          "base_uri": "https://localhost:8080/",
          "height": 85
        }
      },
      "source": [
        "# Adding two arrays\n",
        "# Performing Binary operations\n",
        "print (\"\\nArray sum:\\n\", a + b)"
      ],
      "execution_count": 12,
      "outputs": [
        {
          "output_type": "stream",
          "text": [
            "\n",
            "Array sum:\n",
            " [[5 5]\n",
            " [5 5]]\n"
          ],
          "name": "stdout"
        }
      ]
    },
    {
      "cell_type": "markdown",
      "metadata": {
        "id": "LsvLeKZ26_tO"
      },
      "source": [
        "## **Data Types in Numpy**\n",
        "Every Numpy array is a table of elements (usually numbers), all of the same type, indexed by a tuple of positive integers. Every ndarray has an associated data type (dtype) object. This data type object (dtype) provides information about the layout of the array. "
      ]
    },
    {
      "cell_type": "markdown",
      "metadata": {
        "id": "R-lp7ORa7INQ"
      },
      "source": [
        "### **Constructing a Datatype Object**\n",
        "In Numpy, datatypes of Arrays need not to be defined unless a specific datatype is required. Numpy tries to guess the datatype for Arrays which are not predefined in the constructor function."
      ]
    },
    {
      "cell_type": "code",
      "metadata": {
        "id": "4Qj10hSY7EMj",
        "outputId": "c687ed7f-3e89-406e-a1a4-212358a9838f",
        "colab": {
          "base_uri": "https://localhost:8080/",
          "height": 51
        }
      },
      "source": [
        "# Integer datatype\n",
        "# guessed by Numpy\n",
        "x = np.array([1, 2])  \n",
        "print(\"Integer Datatype: \")\n",
        "print(x.dtype)         "
      ],
      "execution_count": 13,
      "outputs": [
        {
          "output_type": "stream",
          "text": [
            "Integer Datatype: \n",
            "int64\n"
          ],
          "name": "stdout"
        }
      ]
    },
    {
      "cell_type": "code",
      "metadata": {
        "id": "f5olw3FF7Qot",
        "outputId": "e9ac4ca5-88ea-4589-b3fe-69bad6aa8567",
        "colab": {
          "base_uri": "https://localhost:8080/",
          "height": 68
        }
      },
      "source": [
        " # Float datatype\n",
        "# guessed by Numpy\n",
        "x = np.array([1.0, 2.0]) \n",
        "print(\"\\nFloat Datatype: \")\n",
        "print(x.dtype)  "
      ],
      "execution_count": 14,
      "outputs": [
        {
          "output_type": "stream",
          "text": [
            "\n",
            "Float Datatype: \n",
            "float64\n"
          ],
          "name": "stdout"
        }
      ]
    },
    {
      "cell_type": "code",
      "metadata": {
        "id": "UD9kFfTc7SjE",
        "outputId": "c344082e-dd20-46cd-83c5-640281f1d710",
        "colab": {
          "base_uri": "https://localhost:8080/",
          "height": 68
        }
      },
      "source": [
        "# Forced Datatype\n",
        "x = np.array([1, 2], dtype = np.int64)   \n",
        "print(\"\\nForcing a Datatype: \")\n",
        "print(x.dtype)"
      ],
      "execution_count": 15,
      "outputs": [
        {
          "output_type": "stream",
          "text": [
            "\n",
            "Forcing a Datatype: \n",
            "int64\n"
          ],
          "name": "stdout"
        }
      ]
    },
    {
      "cell_type": "markdown",
      "metadata": {
        "id": "XXRmz9AY7ili"
      },
      "source": [
        "### **Math Operations on DataType array**\n",
        "In Numpy arrays, basic mathematical operations are performed element-wise on the array. These operations are applied both as operator overloads and as functions. Many useful functions are provided in Numpy for performing computations on Arrays such as sum: for addition of Array elements, T: for Transpose of elements, etc."
      ]
    },
    {
      "cell_type": "code",
      "metadata": {
        "id": "V3ydlDBp7rRl"
      },
      "source": [
        "# First Array\n",
        "arr1 = np.array([[4, 7], [2, 6]], \n",
        "                 dtype = np.float64)\n",
        "                  \n",
        "# Second Array\n",
        "arr2 = np.array([[3, 6], [2, 8]], \n",
        "                 dtype = np.float64)"
      ],
      "execution_count": 16,
      "outputs": []
    },
    {
      "cell_type": "code",
      "metadata": {
        "id": "LNab7yLw7s2S",
        "outputId": "c4635c61-bc2d-45f7-cab8-be62034fd57d",
        "colab": {
          "base_uri": "https://localhost:8080/",
          "height": 68
        }
      },
      "source": [
        "# Addition of two Arrays\n",
        "Sum = np.add(arr1, arr2)\n",
        "print(\"Addition of Two Arrays: \")\n",
        "print(Sum)"
      ],
      "execution_count": 17,
      "outputs": [
        {
          "output_type": "stream",
          "text": [
            "Addition of Two Arrays: \n",
            "[[ 7. 13.]\n",
            " [ 4. 14.]]\n"
          ],
          "name": "stdout"
        }
      ]
    },
    {
      "cell_type": "code",
      "metadata": {
        "id": "YtjWvenR7t3e",
        "outputId": "5ffa8caa-4292-48a4-be0e-eb7f88b46801",
        "colab": {
          "base_uri": "https://localhost:8080/",
          "height": 68
        }
      },
      "source": [
        "# Addition of all Array elements\n",
        "# using predefined sum method\n",
        "Sum1 = np.sum(arr1)\n",
        "print(\"\\nAddition of Array elements: \")\n",
        "print(Sum1)"
      ],
      "execution_count": 18,
      "outputs": [
        {
          "output_type": "stream",
          "text": [
            "\n",
            "Addition of Array elements: \n",
            "19.0\n"
          ],
          "name": "stdout"
        }
      ]
    },
    {
      "cell_type": "code",
      "metadata": {
        "id": "d02rTzAP7vD5",
        "outputId": "2350a473-4977-40b6-d287-1afb74dd791e",
        "colab": {
          "base_uri": "https://localhost:8080/",
          "height": 85
        }
      },
      "source": [
        "# Square root of Array\n",
        "Sqrt = np.sqrt(arr1)\n",
        "print(\"\\nSquare root of Array1 elements: \")\n",
        "print(Sqrt)"
      ],
      "execution_count": 19,
      "outputs": [
        {
          "output_type": "stream",
          "text": [
            "\n",
            "Square root of Array1 elements: \n",
            "[[2.         2.64575131]\n",
            " [1.41421356 2.44948974]]\n"
          ],
          "name": "stdout"
        }
      ]
    },
    {
      "cell_type": "code",
      "metadata": {
        "id": "TxhOMW2z7v_4",
        "outputId": "d720ce3c-f4ba-460b-ea7c-bf04a4c6c872",
        "colab": {
          "base_uri": "https://localhost:8080/",
          "height": 85
        }
      },
      "source": [
        "# Transpose of Array\n",
        "# using In-built function 'T'\n",
        "Trans_arr = arr1.T\n",
        "print(\"\\nTranspose of Array: \")\n",
        "print(Trans_arr)"
      ],
      "execution_count": 20,
      "outputs": [
        {
          "output_type": "stream",
          "text": [
            "\n",
            "Transpose of Array: \n",
            "[[4. 2.]\n",
            " [7. 6.]]\n"
          ],
          "name": "stdout"
        }
      ]
    }
  ]
}